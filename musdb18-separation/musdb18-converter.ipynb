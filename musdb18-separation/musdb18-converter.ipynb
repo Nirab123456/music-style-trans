{
 "cells": [
  {
   "cell_type": "code",
   "execution_count": 2,
   "id": "152ad049",
   "metadata": {},
   "outputs": [],
   "source": [
    "import pandas as pd \n",
    "\n",
    "df = pd.read_csv(\"output_stems/musdb18_index_20250408_121813.csv\")\n"
   ]
  },
  {
   "cell_type": "code",
   "execution_count": 4,
   "id": "91bbb73c",
   "metadata": {},
   "outputs": [],
   "source": [
    "# Remove the prefix from 'original_mp4' column\n",
    "df['original_mp4'] = df['original_mp4'].str.replace(r'^D:\\\\MUSIC_STYLE_TRANSFER\\\\', '', regex=True)\n"
   ]
  },
  {
   "cell_type": "code",
   "execution_count": 6,
   "id": "ed7204ec",
   "metadata": {},
   "outputs": [],
   "source": [
    "\n",
    "df.to_csv(\"musdb18_index_20250408_121813.csv\")"
   ]
  }
 ],
 "metadata": {
  "kernelspec": {
   "display_name": "sml",
   "language": "python",
   "name": "python3"
  },
  "language_info": {
   "codemirror_mode": {
    "name": "ipython",
    "version": 3
   },
   "file_extension": ".py",
   "mimetype": "text/x-python",
   "name": "python",
   "nbconvert_exporter": "python",
   "pygments_lexer": "ipython3",
   "version": "3.12.9"
  }
 },
 "nbformat": 4,
 "nbformat_minor": 5
}
