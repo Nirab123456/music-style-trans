{
 "cells": [
  {
   "cell_type": "code",
   "execution_count": 9,
   "id": "d25b0dbe",
   "metadata": {},
   "outputs": [],
   "source": [
    "from torch.utils.data import DataLoader\n",
    "import torch\n",
    "import random\n",
    "from typing import Dict\n",
    "\n",
    "# Import missing modules for optimization\n",
    "import torch.optim as optim\n",
    "from torch.optim import lr_scheduler\n",
    "\n",
    "# Import our custom dataset and augmentation pipeline.\n",
    "from process_sml import (\n",
    "    AudioDatasetFolder, Compose,\n",
    "    RandomPitchShift_wav,RandomVolume_wav,RandomAbsoluteNoise_wav,RandomSpeed_wav,RandomFade_wav,RandomFrequencyMasking_spec,RandomTimeMasking_spec,RandomTimeStretch_spec,\n",
    "    compute_waveform,reconstruct_waveform)\n",
    "# Import the UNet model and the training function from the training module.\n",
    "from train_sml import UNet, train_model_source_separation,LiteResUNet\n",
    "import torch.nn as nn\n",
    "from torch.utils.data import DataLoader\n",
    "import matplotlib.pyplot as plt\n",
    "\n",
    "# Define the component map for the dataset.\n",
    "COMPONENT_MAP = [\"mixture\", \"drums\", \"bass\", \"other_accompaniment\", \"vocals\"]\n",
    "label_names = [\"drums\", \"bass\", \"other_accompaniment\", \"vocals\"]\n",
    "\n",
    "\n",
    "argS = Compose([\n",
    "\n",
    "    #spec transformation \n",
    "    RandomTimeStretch_spec(),\n",
    "    #this two working properly together\n",
    "    RandomFrequencyMasking_spec(),\n",
    "    RandomTimeMasking_spec(),\n",
    "\n",
    "])\n",
    "argW = Compose(\n",
    " [\n",
    "    # RandomPitchShift_wav(),\n",
    "    RandomVolume_wav(),\n",
    "    # RandomSpeed_wav(),\n",
    "    RandomAbsoluteNoise_wav(),\n",
    "    RandomFade_wav(),\n",
    " ]   \n",
    ")\n",
    "\n",
    "\n",
    "# Set random seeds for reproducibility.\n",
    "torch.manual_seed(42)\n",
    "random.seed(42)\n",
    "\n",
    "# Choose device early.\n",
    "device: torch.device = torch.device(\"cuda\" if torch.cuda.is_available() else \"cpu\")\n",
    "\n",
    "# Create the dataset.\n",
    "dataset_multi = AudioDatasetFolder(\n",
    "    csv_file='output_stems/musdb18_index_20250408_121813.csv',\n",
    "    audio_dir='.',  # adjust as needed\n",
    "    components=COMPONENT_MAP,\n",
    "    sample_rate=16000,\n",
    "    duration=20.0,\n",
    "    # spec_transform=argS,  # list of transforms\n",
    "    # wav_transform=argW,\n",
    "    is_track_id=True,\n",
    "    # input_name= \"mixture\"\n",
    ")\n",
    "\n",
    "loader_multi = DataLoader(dataset_multi, batch_size=8, shuffle=False)\n",
    "sample_multi = next(iter(loader_multi))\n",
    "\n",
    "\n",
    "# Plot spectrogram for the 'mixture' component.\n",
    "spec = sample_multi['mixture'][0]  # select first sample and first channel\n"
   ]
  },
  {
   "cell_type": "code",
   "execution_count": 3,
   "id": "bffb205d",
   "metadata": {},
   "outputs": [],
   "source": [
    "drums_wav = sample_multi[\"drums\"][0]"
   ]
  },
  {
   "cell_type": "code",
   "execution_count": 10,
   "id": "81b4970a",
   "metadata": {},
   "outputs": [
    {
     "data": {
      "text/plain": [
       "False"
      ]
     },
     "execution_count": 10,
     "metadata": {},
     "output_type": "execute_result"
    }
   ],
   "source": [
    "torch.is_complex(spec)"
   ]
  },
  {
   "cell_type": "code",
   "execution_count": 7,
   "id": "bb48b6d4",
   "metadata": {},
   "outputs": [],
   "source": [
    "import torchaudio\n",
    "\n",
    "# wav1 is shape [2, 64000], dtype=float\n",
    "waveform = spec.detach().cpu()     # now shape [2, 64000]\n",
    "torchaudio.save(\"direct.wav\", waveform, sample_rate=16000)\n"
   ]
  },
  {
   "cell_type": "code",
   "execution_count": null,
   "id": "dfa37edf",
   "metadata": {},
   "outputs": [
    {
     "name": "stdout",
     "output_type": "stream",
     "text": [
      "Wrote WAV to reconstructed.wav — now open it with your favorite audio player!\n"
     ]
    }
   ],
   "source": [
    "import torchaudio\n",
    "\n",
    "# Ensure waveform is a FloatTensor in [-1,1]\n",
    "waveform_tensor = spec.detach().cpu()\n",
    "\n",
    "# Write out\n",
    "torchaudio.save(\"reconstructed_pre.wav\", waveform_tensor, 16000)\n",
    "\n",
    "print(\"Wrote WAV to reconstructed.wav — now open it with your favorite audio player!\")\n"
   ]
  },
  {
   "cell_type": "code",
   "execution_count": null,
   "id": "70144253",
   "metadata": {},
   "outputs": [],
   "source": [
    "\n",
    "class ComputeSpectrogram:\n",
    "    def __init__(self, n_fft: int = 2048, hop_length: int = 512, power: float = None, normalized: bool = False):\n",
    "        \"\"\"\n",
    "        Compute the magnitude spectrogram using torchaudio.functional.spectrogram.\n",
    "        \n",
    "        Args:\n",
    "            n_fft (int): The FFT window size.\n",
    "            hop_length (int): The hop length for the window.\n",
    "            power (float, optional): If None, returns a complex tensor and we take the magnitude.\n",
    "                                      Otherwise, returns the power spectrogram.\n",
    "            normalized (bool): If True, the spectrogram is normalized.\n",
    "        \"\"\"\n",
    "        self.n_fft = n_fft\n",
    "        self.hop_length = hop_length\n",
    "        self.power = power\n",
    "        self.normalized = normalized\n",
    "\n",
    "    def __call__(self, waveform: torch.Tensor) -> torch.Tensor:\n",
    "        \"\"\"\n",
    "        Args:\n",
    "            waveform (Tensor): Audio tensor. Expected shapes are (time), (channel, time) or (batch, channel, time).\n",
    "        \n",
    "        Returns:\n",
    "            Tensor: The computed magnitude spectrogram with shape (channel, freq, time) (or with batch dimension if provided).\n",
    "        \"\"\"\n",
    "\n",
    "        spec = compute_spectrogram(waveform,self.n_fft,self.hop_length,self.power,self.normalized)\n",
    "        \n",
    "\n",
    "        if self.power is None:\n",
    "            return spec.abs()\n",
    "        else:\n",
    "            return spec\n"
   ]
  }
 ],
 "metadata": {
  "kernelspec": {
   "display_name": "smal",
   "language": "python",
   "name": "python3"
  },
  "language_info": {
   "codemirror_mode": {
    "name": "ipython",
    "version": 3
   },
   "file_extension": ".py",
   "mimetype": "text/x-python",
   "name": "python",
   "nbconvert_exporter": "python",
   "pygments_lexer": "ipython3",
   "version": "3.12.9"
  }
 },
 "nbformat": 4,
 "nbformat_minor": 5
}
