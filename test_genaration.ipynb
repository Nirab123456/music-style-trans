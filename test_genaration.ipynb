{
 "cells": [
  {
   "cell_type": "code",
   "execution_count": 6,
   "id": "09fad819",
   "metadata": {},
   "outputs": [],
   "source": [
    "from torch.utils.data import DataLoader\n",
    "import torch\n",
    "import random\n",
    "from typing import Dict\n",
    "\n",
    "# Import missing modules for optimization\n",
    "import torch.optim as optim\n",
    "from torch.optim import lr_scheduler\n",
    "\n",
    "# Import our custom dataset and augmentation pipeline.\n",
    "from process_sml import (\n",
    "    AudioDatasetFolder, Compose,\n",
    "    RandomPitchShift_wav,RandomVolume_wav,RandomAbsoluteNoise_wav,RandomSpeed_wav,RandomFade_wav,RandomFrequencyMasking_spec,RandomTimeMasking_spec,RandomTimeStretch_spec)\n",
    "# Import the UNet model and the training function from the training module.\n",
    "from train_sml import UNet, train_model_source_separation,LiteResUNet,infer_and_save\n",
    "import torch.nn as nn\n",
    "\n",
    "# Define the component map for the dataset.\n",
    "COMPONENT_MAP = [\"mixture\", \"drums\", \"bass\", \"other_accompaniment\", \"vocals\"]\n",
    "label_names = [\"drums\", \"bass\", \"other_accompaniment\", \"vocals\"]\n",
    "\n",
    "dataset_val = AudioDatasetFolder(\n",
    "    csv_file='output_stems/test_one.csv',\n",
    "    audio_dir='.',  # adjust as needed\n",
    "    components=COMPONENT_MAP,\n",
    "    sample_rate=16000,\n",
    "    duration=10.0,\n",
    "    is_track_id=True,\n",
    "    input_name= \"mixture\",\n",
    "\n",
    ")\n",
    "data_loader = DataLoader(dataset_val, batch_size=40)\n"
   ]
  },
  {
   "cell_type": "code",
   "execution_count": 7,
   "id": "c3071583",
   "metadata": {},
   "outputs": [],
   "source": [
    "model = LiteResUNet(backbone=\"resnet18\",source_names=label_names,pretrained=True,in_channels=4)\n",
    "device= torch.device(\"cuda\" if torch.cuda.is_available() else \"cpu\")\n",
    "\n"
   ]
  },
  {
   "cell_type": "code",
   "execution_count": 8,
   "id": "89ef6c33",
   "metadata": {},
   "outputs": [],
   "source": [
    "presaved_weights = torch.load(\"checkpoints/model_epoch_28.pth\")\n",
    "state_of_dict = presaved_weights['model_state_dict']\n"
   ]
  },
  {
   "cell_type": "code",
   "execution_count": 9,
   "id": "a8198fb1",
   "metadata": {},
   "outputs": [
    {
     "data": {
      "text/plain": [
       "<All keys matched successfully>"
      ]
     },
     "execution_count": 9,
     "metadata": {},
     "output_type": "execute_result"
    }
   ],
   "source": [
    "model.load_state_dict(state_dict=state_of_dict)"
   ]
  },
  {
   "cell_type": "code",
   "execution_count": 10,
   "id": "9f80d203",
   "metadata": {},
   "outputs": [
    {
     "name": "stdout",
     "output_type": "stream",
     "text": [
      "✅ All inference outputs saved to ./inference_outputs\n"
     ]
    }
   ],
   "source": [
    "\n",
    "# IMPORTANT: Move the entire model to the device after adding the final conv layers.\n",
    "model = model.to(device)\n",
    "\n",
    "# after training:\n",
    "infer_and_save(\n",
    "    model=model,\n",
    "    dataloader=data_loader,\n",
    "    device=device,\n",
    "    output_dir=\"./inference_outputs\",\n",
    "    input_name=\"mixture\",\n",
    "    label_names=[\"drums\", \"bass\", \"other_accompaniment\", \"vocals\"],\n",
    "    sample_rate=16000,\n",
    ")\n",
    "\n"
   ]
  }
 ],
 "metadata": {
  "kernelspec": {
   "display_name": "smal",
   "language": "python",
   "name": "python3"
  },
  "language_info": {
   "codemirror_mode": {
    "name": "ipython",
    "version": 3
   },
   "file_extension": ".py",
   "mimetype": "text/x-python",
   "name": "python",
   "nbconvert_exporter": "python",
   "pygments_lexer": "ipython3",
   "version": "3.12.9"
  }
 },
 "nbformat": 4,
 "nbformat_minor": 5
}
