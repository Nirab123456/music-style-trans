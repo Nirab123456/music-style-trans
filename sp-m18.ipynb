{
 "cells": [
  {
   "cell_type": "code",
   "execution_count": 9,
   "id": "d25b0dbe",
   "metadata": {},
   "outputs": [],
   "source": [
    "from torch.utils.data import DataLoader\n",
    "import torch\n",
    "import random\n",
    "from typing import Dict\n",
    "\n",
    "# Import missing modules for optimization\n",
    "import torch.optim as optim\n",
    "from torch.optim import lr_scheduler\n",
    "\n",
    "# Import our custom dataset and augmentation pipeline.\n",
    "from process_sml import (\n",
    "    AudioDatasetFolder, Compose,\n",
    "    RandomPitchShift_wav,RandomVolume_wav,RandomAbsoluteNoise_wav,RandomSpeed_wav,RandomFade_wav,RandomFrequencyMasking_spec,RandomTimeMasking_spec,RandomTimeStretch_spec,\n",
    "    compute_waveform,reconstruct_waveform)\n",
    "# Import the UNet model and the training function from the training module.\n",
    "from train_sml import UNet, train_model_source_separation,LiteResUNet\n",
    "import torch.nn as nn\n",
    "from torch.utils.data import DataLoader\n",
    "import matplotlib.pyplot as plt\n",
    "\n",
    "# Define the component map for the dataset.\n",
    "COMPONENT_MAP = [\"mixture\", \"drums\", \"bass\", \"other_accompaniment\", \"vocals\"]\n",
    "label_names = [\"drums\", \"bass\", \"other_accompaniment\", \"vocals\"]\n",
    "\n",
    "\n",
    "argS = Compose([\n",
    "\n",
    "    #spec transformation \n",
    "    RandomTimeStretch_spec(),\n",
    "    #this two working properly together\n",
    "    RandomFrequencyMasking_spec(),\n",
    "    RandomTimeMasking_spec(),\n",
    "\n",
    "])\n",
    "argW = Compose(\n",
    " [\n",
    "    # RandomPitchShift_wav(),\n",
    "    RandomVolume_wav(),\n",
    "    # RandomSpeed_wav(),\n",
    "    RandomAbsoluteNoise_wav(),\n",
    "    RandomFade_wav(),\n",
    " ]   \n",
    ")\n",
    "\n",
    "\n",
    "# Set random seeds for reproducibility.\n",
    "torch.manual_seed(42)\n",
    "random.seed(42)\n",
    "\n",
    "# Choose device early.\n",
    "device: torch.device = torch.device(\"cuda\" if torch.cuda.is_available() else \"cpu\")\n",
    "\n",
    "# Create the dataset.\n",
    "dataset_multi = AudioDatasetFolder(\n",
    "    csv_file='output_stems/musdb18_index_20250408_121813.csv',\n",
    "    audio_dir='.',  # adjust as needed\n",
    "    components=COMPONENT_MAP,\n",
    "    sample_rate=16000,\n",
    "    duration=20.0,\n",
    "    # spec_transform=argS,  # list of transforms\n",
    "    # wav_transform=argW,\n",
    "    is_track_id=True,\n",
    "    # input_name= \"mixture\"\n",
    ")\n",
    "\n",
    "loader_multi = DataLoader(dataset_multi, batch_size=8, shuffle=False)\n",
    "sample_multi = next(iter(loader_multi))\n",
    "\n",
    "\n",
    "# Plot spectrogram for the 'mixture' component.\n",
    "spec = sample_multi['mixture'][0]  # select first sample and first channel\n"
   ]
  },
  {
   "cell_type": "markdown",
   "id": "179a096a",
   "metadata": {},
   "source": []
  },
  {
   "cell_type": "code",
   "execution_count": 3,
   "id": "bffb205d",
   "metadata": {},
   "outputs": [],
   "source": [
    "drums_wav = sample_multi[\"drums\"][0]"
   ]
  },
  {
   "cell_type": "code",
   "execution_count": 10,
   "id": "81b4970a",
   "metadata": {},
   "outputs": [
    {
     "data": {
      "text/plain": [
       "False"
      ]
     },
     "execution_count": 10,
     "metadata": {},
     "output_type": "execute_result"
    }
   ],
   "source": [
    "torch.is_complex(spec)"
   ]
  },
  {
   "cell_type": "code",
   "execution_count": 5,
   "id": "032e39de",
   "metadata": {},
   "outputs": [
    {
     "data": {
      "text/plain": [
       "torch.Size([2, 320000])"
      ]
     },
     "execution_count": 5,
     "metadata": {},
     "output_type": "execute_result"
    }
   ],
   "source": [
    "drums_wav.shape"
   ]
  },
  {
   "cell_type": "code",
   "execution_count": 2,
   "id": "fb3a551f",
   "metadata": {},
   "outputs": [
    {
     "data": {
      "text/plain": [
       "torch.Size([4, 1025, 626])"
      ]
     },
     "execution_count": 2,
     "metadata": {},
     "output_type": "execute_result"
    }
   ],
   "source": [
    "spec.shape"
   ]
  },
  {
   "cell_type": "code",
   "execution_count": 9,
   "id": "75e1c68f",
   "metadata": {},
   "outputs": [
    {
     "data": {
      "text/plain": [
       "torch.Size([2, 1025, 626])"
      ]
     },
     "execution_count": 9,
     "metadata": {},
     "output_type": "execute_result"
    }
   ],
   "source": [
    "spec_multi.shape"
   ]
  },
  {
   "cell_type": "code",
   "execution_count": 10,
   "id": "720efdb6",
   "metadata": {},
   "outputs": [
    {
     "data": {
      "text/plain": [
       "tensor([[[ 0.0000,  0.0000,  0.0000,  ..., -2.2632, -3.1416, -3.1416],\n",
       "         [ 0.1314,  1.6906, -1.5155,  ..., -1.6732, -0.7753,  0.0839],\n",
       "         [-2.9658, -0.5233, -1.7235,  ...,  0.7273, -0.8559,  1.5805],\n",
       "         ...,\n",
       "         [ 0.1550,  2.1844,  0.1257,  ...,  0.8283, -1.7063,  1.7371],\n",
       "         [-0.0819, -1.7108, -1.6442,  ...,  0.8761,  0.1350, -2.5726],\n",
       "         [-2.9659, -0.5269, -1.3851,  ..., -3.1369, -3.1344, -3.1319]],\n",
       "\n",
       "        [[ 0.0000,  0.0000,  0.0000,  ..., -2.2632, -3.1416, -3.1416],\n",
       "         [ 3.1126,  2.5359,  2.0272,  ..., -2.2548, -1.2661, -0.2525],\n",
       "         [-2.9839,  0.1515,  1.8673,  ..., -1.4304,  0.8589, -0.7995],\n",
       "         ...,\n",
       "         [ 0.1540,  2.1629,  0.0480,  ...,  0.3488, -0.4115, -2.8410],\n",
       "         [-0.0829, -1.7318, -1.6658,  ...,  0.8868, -1.6112,  1.6722],\n",
       "         [-2.9659, -0.5269, -1.3851,  ..., -3.1076, -3.1051, -3.1026]]])"
      ]
     },
     "execution_count": 10,
     "metadata": {},
     "output_type": "execute_result"
    }
   ],
   "source": [
    "phase_multi"
   ]
  },
  {
   "cell_type": "code",
   "execution_count": 7,
   "id": "3963ea50",
   "metadata": {},
   "outputs": [
    {
     "data": {
      "text/plain": [
       "torch.Size([2, 1025, 626])"
      ]
     },
     "execution_count": 7,
     "metadata": {},
     "output_type": "execute_result"
    }
   ],
   "source": [
    "phase_multi.shape"
   ]
  },
  {
   "cell_type": "code",
   "execution_count": 16,
   "id": "6e9955ac",
   "metadata": {},
   "outputs": [
    {
     "data": {
      "text/plain": [
       "torch.Size([4, 1025, 626])"
      ]
     },
     "execution_count": 16,
     "metadata": {},
     "output_type": "execute_result"
    }
   ],
   "source": [
    "combined = torch.cat((spec_multi, phase_multi), dim=0)  # (4, H, W)\n",
    "combined.shape"
   ]
  },
  {
   "cell_type": "code",
   "execution_count": 17,
   "id": "79153858",
   "metadata": {},
   "outputs": [],
   "source": [
    "spec_multi_recovered, phase_multi_recovered = torch.split(combined, 2, dim=0)\n"
   ]
  },
  {
   "cell_type": "code",
   "execution_count": 18,
   "id": "803f4a39",
   "metadata": {},
   "outputs": [
    {
     "data": {
      "text/plain": [
       "tensor([[[0.0031, 0.0060, 0.0123,  ..., 0.0566, 0.0644, 0.0167],\n",
       "         [0.0011, 0.0029, 0.0067,  ..., 0.0533, 0.0508, 0.0133],\n",
       "         [0.0013, 0.0053, 0.0081,  ..., 0.0481, 0.0362, 0.0091],\n",
       "         ...,\n",
       "         [0.0027, 0.0074, 0.0087,  ..., 0.0212, 0.0211, 0.0047],\n",
       "         [0.0005, 0.0061, 0.0101,  ..., 0.0303, 0.0192, 0.0038],\n",
       "         [0.0016, 0.0049, 0.0077,  ..., 0.0194, 0.0082, 0.0010]],\n",
       "\n",
       "        [[0.0029, 0.0054, 0.0118,  ..., 0.0552, 0.0650, 0.0171],\n",
       "         [0.0006, 0.0034, 0.0071,  ..., 0.0549, 0.0517, 0.0133],\n",
       "         [0.0027, 0.0017, 0.0045,  ..., 0.0398, 0.0507, 0.0136],\n",
       "         ...,\n",
       "         [0.0027, 0.0074, 0.0086,  ..., 0.0219, 0.0206, 0.0045],\n",
       "         [0.0005, 0.0059, 0.0088,  ..., 0.0303, 0.0199, 0.0040],\n",
       "         [0.0016, 0.0049, 0.0076,  ..., 0.0190, 0.0072, 0.0007]]])"
      ]
     },
     "execution_count": 18,
     "metadata": {},
     "output_type": "execute_result"
    }
   ],
   "source": [
    "spec_multi_recovered"
   ]
  },
  {
   "cell_type": "code",
   "execution_count": 2,
   "id": "d5d5c13b",
   "metadata": {},
   "outputs": [],
   "source": [
    "complex_x = torch.polar(spec_multi, phase_multi)"
   ]
  },
  {
   "cell_type": "code",
   "execution_count": 3,
   "id": "77841230",
   "metadata": {},
   "outputs": [],
   "source": [
    "wav = reconstruct_waveform(complex_x)"
   ]
  },
  {
   "cell_type": "code",
   "execution_count": 8,
   "id": "e17fbcb8",
   "metadata": {},
   "outputs": [],
   "source": [
    "x = compute_waveform(spec_multi)"
   ]
  },
  {
   "cell_type": "code",
   "execution_count": 7,
   "id": "bb48b6d4",
   "metadata": {},
   "outputs": [],
   "source": [
    "import torchaudio\n",
    "\n",
    "# wav1 is shape [2, 64000], dtype=float\n",
    "waveform = spec.detach().cpu()     # now shape [2, 64000]\n",
    "torchaudio.save(\"direct.wav\", waveform, sample_rate=16000)\n"
   ]
  },
  {
   "cell_type": "code",
   "execution_count": 7,
   "id": "f05bdd69",
   "metadata": {},
   "outputs": [],
   "source": [
    "wav1 = compute_waveform(spec_multi)"
   ]
  },
  {
   "cell_type": "code",
   "execution_count": 9,
   "id": "dfa37edf",
   "metadata": {},
   "outputs": [
    {
     "name": "stdout",
     "output_type": "stream",
     "text": [
      "Wrote WAV to reconstructed.wav — now open it with your favorite audio player!\n"
     ]
    }
   ],
   "source": [
    "import torchaudio\n",
    "\n",
    "# Ensure waveform is a FloatTensor in [-1,1]\n",
    "waveform_tensor = wav1.detach().cpu()\n",
    "\n",
    "# Write out\n",
    "torchaudio.save(\"reconstructed_pre.wav\", waveform_tensor, 16000)\n",
    "\n",
    "print(\"Wrote WAV to reconstructed.wav — now open it with your favorite audio player!\")\n"
   ]
  },
  {
   "cell_type": "code",
   "execution_count": null,
   "id": "70144253",
   "metadata": {},
   "outputs": [],
   "source": [
    "\n",
    "class ComputeSpectrogram:\n",
    "    def __init__(self, n_fft: int = 2048, hop_length: int = 512, power: float = None, normalized: bool = False):\n",
    "        \"\"\"\n",
    "        Compute the magnitude spectrogram using torchaudio.functional.spectrogram.\n",
    "        \n",
    "        Args:\n",
    "            n_fft (int): The FFT window size.\n",
    "            hop_length (int): The hop length for the window.\n",
    "            power (float, optional): If None, returns a complex tensor and we take the magnitude.\n",
    "                                      Otherwise, returns the power spectrogram.\n",
    "            normalized (bool): If True, the spectrogram is normalized.\n",
    "        \"\"\"\n",
    "        self.n_fft = n_fft\n",
    "        self.hop_length = hop_length\n",
    "        self.power = power\n",
    "        self.normalized = normalized\n",
    "\n",
    "    def __call__(self, waveform: torch.Tensor) -> torch.Tensor:\n",
    "        \"\"\"\n",
    "        Args:\n",
    "            waveform (Tensor): Audio tensor. Expected shapes are (time), (channel, time) or (batch, channel, time).\n",
    "        \n",
    "        Returns:\n",
    "            Tensor: The computed magnitude spectrogram with shape (channel, freq, time) (or with batch dimension if provided).\n",
    "        \"\"\"\n",
    "\n",
    "        spec = compute_spectrogram(waveform,self.n_fft,self.hop_length,self.power,self.normalized)\n",
    "        \n",
    "\n",
    "        if self.power is None:\n",
    "            return spec.abs()\n",
    "        else:\n",
    "            return spec\n"
   ]
  }
 ],
 "metadata": {
  "kernelspec": {
   "display_name": "smal",
   "language": "python",
   "name": "python3"
  },
  "language_info": {
   "codemirror_mode": {
    "name": "ipython",
    "version": 3
   },
   "file_extension": ".py",
   "mimetype": "text/x-python",
   "name": "python",
   "nbconvert_exporter": "python",
   "pygments_lexer": "ipython3",
   "version": "3.12.9"
  }
 },
 "nbformat": 4,
 "nbformat_minor": 5
}
