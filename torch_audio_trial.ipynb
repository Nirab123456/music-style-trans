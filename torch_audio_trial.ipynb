{
 "cells": [
  {
   "cell_type": "code",
   "execution_count": 7,
   "id": "8f756e6c",
   "metadata": {},
   "outputs": [
    {
     "name": "stdout",
     "output_type": "stream",
     "text": [
      "Processing from raw MP3...\n",
      "Shape of 5-second noise spectrogram: torch.Size([2, 1025, 157])\n"
     ]
    }
   ],
   "source": [
    "import os\n",
    "import torch\n",
    "import torchaudio\n",
    "from IPython.display import Audio\n",
    "from process_sml import (\n",
    "    AudioDatasetFolder, Compose, RandomTimeCrop, RandomTimeStretch,\n",
    "    RandomPitchShift, RandomNoise, RandomDistortion, RandomVolume,\n",
    "    compute_waveform, compute_spectrogram\n",
    ")\n",
    "\n",
    "root = \"pre_saved_tensors\"\n",
    "# Define cache path\n",
    "waveform_cache_path = f\"{root}/cached_waveform.pt\"\n",
    "spec_cache_path = f\"{root}/cached_spec.pt\"\n",
    "\n",
    "os.mkdir(root)\n",
    "\n",
    "# Check if already cached\n",
    "if os.path.exists(waveform_cache_path) and os.path.exists(spec_cache_path):\n",
    "    print(\"Loading from cache...\")\n",
    "    waveform = torch.load(waveform_cache_path)\n",
    "    spec = torch.load(spec_cache_path)\n",
    "else:\n",
    "    print(\"Processing from raw MP3...\")\n",
    "    waveform, sample_rate = torchaudio.load(r\"C:\\Users\\rifat\\Downloads\\Music\\super-saw-bass-37512.mp3\")\n",
    "\n",
    "    if sample_rate != 16000:\n",
    "        resampler = torchaudio.transforms.Resample(orig_freq=sample_rate, new_freq=16000)\n",
    "        waveform = resampler(waveform)\n",
    "        sample_rate = 16000\n",
    "\n",
    "    # Take first 5 seconds\n",
    "    num_samples = sample_rate * 5\n",
    "    waveform = waveform[:, :num_samples]\n",
    "\n",
    "    # Save waveform\n",
    "    torch.save(waveform, waveform_cache_path)\n",
    "\n",
    "    # Compute spectrogram and save\n",
    "    spec = compute_spectrogram(waveform)\n",
    "    torch.save(spec, spec_cache_path)\n",
    "\n",
    "# Optional: Play audio\n",
    "# Audio(waveform.numpy(), rate=16000)\n",
    "\n",
    "# Show shape\n",
    "print(f\"Shape of 5-second noise spectrogram: {spec.abs().shape}\")\n"
   ]
  },
  {
   "cell_type": "code",
   "execution_count": 12,
   "id": "237f36a6",
   "metadata": {},
   "outputs": [
    {
     "data": {
      "text/plain": [
       "torch.Size([2, 1025, 157])"
      ]
     },
     "execution_count": 12,
     "metadata": {},
     "output_type": "execute_result"
    }
   ],
   "source": [
    "wav = torch.load(\"pre_saved_tensors/cached_spec.pt\")\n",
    "wav.abs().shape\n"
   ]
  },
  {
   "cell_type": "code",
   "execution_count": null,
   "id": "3be0390f",
   "metadata": {},
   "outputs": [],
   "source": [
    "class RandomNoise:\n",
    "    def __init__(self, snr_db: float = 10.0):\n",
    "        \"\"\"\n",
    "        Args:\n",
    "            snr_db (float): Desired Signal-to-Noise Ratio in dB. Lower = noisier.\n",
    "        \"\"\"\n",
    "        self.snr_db = snr_db\n",
    "\n",
    "    def __call__(self, waveform: torch.Tensor) -> torch.Tensor:\n",
    "        # Generate Gaussian noise with the same shape\n",
    "        noise = torch.randn_like(waveform)\n",
    "\n",
    "        # Convert SNR to a tensor\n",
    "        snr = torch.tensor([self.snr_db], device=waveform.device)\n",
    "\n",
    "        # Apply add_noise with broadcasting\n",
    "        noisy_waveform = torchaudio.functional.add_noise(waveform, noise, snr)\n",
    "\n",
    "        return noisy_waveform\n"
   ]
  }
 ],
 "metadata": {
  "kernelspec": {
   "display_name": "sml",
   "language": "python",
   "name": "python3"
  },
  "language_info": {
   "codemirror_mode": {
    "name": "ipython",
    "version": 3
   },
   "file_extension": ".py",
   "mimetype": "text/x-python",
   "name": "python",
   "nbconvert_exporter": "python",
   "pygments_lexer": "ipython3",
   "version": "3.12.9"
  }
 },
 "nbformat": 4,
 "nbformat_minor": 5
}
