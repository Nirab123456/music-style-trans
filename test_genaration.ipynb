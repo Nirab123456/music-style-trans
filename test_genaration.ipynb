{
 "cells": [
  {
   "cell_type": "code",
   "execution_count": 1,
   "id": "09fad819",
   "metadata": {},
   "outputs": [],
   "source": [
    "from torch.utils.data import DataLoader\n",
    "import torch\n",
    "import random\n",
    "from typing import Dict\n",
    "\n",
    "# Import missing modules for optimization\n",
    "import torch.optim as optim\n",
    "from torch.optim import lr_scheduler\n",
    "\n",
    "# Import our custom dataset and augmentation pipeline.\n",
    "from process_sml import (\n",
    "    AudioDatasetFolder, Compose,compute_waveform_griffinlim,\n",
    "    RandomPitchShift_wav,RandomVolume_wav,RandomAbsoluteNoise_wav,RandomSpeed_wav,RandomFade_wav,RandomFrequencyMasking_spec,RandomTimeMasking_spec,RandomTimeStretch_spec)\n",
    "# Import the UNet model and the training function from the training module.\n",
    "from train_sml import UNet, train_model_source_separation,LiteResUNet,infer_and_save\n",
    "import torch.nn as nn\n",
    "\n",
    "# Define the component map for the dataset.\n",
    "COMPONENT_MAP = [\"mixture\", \"drums\", \"bass\", \"other_accompaniment\", \"vocals\"]\n",
    "label_names = [\"drums\", \"bass\", \"other_accompaniment\", \"vocals\"]\n",
    "\n",
    "dataset_val = AudioDatasetFolder(\n",
    "    csv_file='output_stems/test_one.csv',\n",
    "    audio_dir='.',  # adjust as needed\n",
    "    components=COMPONENT_MAP,\n",
    "    sample_rate=16000,\n",
    "    duration=10.0,\n",
    "    is_track_id=True,\n",
    "    input_name= \"mixture\",\n",
    "\n",
    ")\n",
    "data_loader = DataLoader(dataset_val, batch_size=18)\n"
   ]
  },
  {
   "cell_type": "code",
   "execution_count": 2,
   "id": "c3071583",
   "metadata": {},
   "outputs": [],
   "source": [
    "model = LiteResUNet(backbone=\"resnet18\",source_names=label_names,pretrained=True,in_channels=2)\n",
    "device= torch.device(\"cuda\" if torch.cuda.is_available() else \"cpu\")\n",
    "\n"
   ]
  },
  {
   "cell_type": "code",
   "execution_count": 3,
   "id": "89ef6c33",
   "metadata": {},
   "outputs": [],
   "source": [
    "presaved_weights = torch.load(\"checkpoints/checkpoint_epoch_115.pth\")\n",
    "state_of_dict = presaved_weights['model_state_dict']\n"
   ]
  },
  {
   "cell_type": "code",
   "execution_count": 4,
   "id": "a8198fb1",
   "metadata": {},
   "outputs": [
    {
     "data": {
      "text/plain": [
       "<All keys matched successfully>"
      ]
     },
     "execution_count": 4,
     "metadata": {},
     "output_type": "execute_result"
    }
   ],
   "source": [
    "model.load_state_dict(state_dict=state_of_dict)"
   ]
  },
  {
   "cell_type": "code",
   "execution_count": 6,
   "id": "bc7e6247",
   "metadata": {},
   "outputs": [],
   "source": [
    "# grab one batch\n",
    "sample_multi = next(iter(data_loader))\n",
    "\n",
    "# Option A) move just the spectrogram you care about\n",
    "spec = sample_multi['mixture'][0]    # shape = (channels, freq, time)\n",
    "spec = spec.to(device)\n",
    "model = model.to(device)\n",
    "# now you can e.g. plot it (if you move it back to CPU first) or feed it into a model:\n",
    "model_input = spec.unsqueeze(0)      # add batch dim if needed\n",
    "model_input = model_input.to(device)\n",
    "out = model(model_input)"
   ]
  },
  {
   "cell_type": "code",
   "execution_count": 7,
   "id": "3a10f7f2",
   "metadata": {},
   "outputs": [],
   "source": [
    "vocals = out[\"vocals\"].squeeze(0)"
   ]
  },
  {
   "cell_type": "code",
   "execution_count": 8,
   "id": "5819737e",
   "metadata": {},
   "outputs": [],
   "source": [
    "wav_spec= compute_waveform_griffinlim(vocals)"
   ]
  },
  {
   "cell_type": "code",
   "execution_count": 9,
   "id": "34fe201b",
   "metadata": {},
   "outputs": [],
   "source": [
    "import torchaudio\n",
    "\n",
    "# wav1 is shape [2, 64000], dtype=float\n",
    "waveform = wav_spec.detach().cpu()     # now shape [2, 64000]\n",
    "torchaudio.save(\"transformed.wav\", waveform, sample_rate=16000)\n"
   ]
  },
  {
   "cell_type": "code",
   "execution_count": null,
   "id": "9f80d203",
   "metadata": {},
   "outputs": [
    {
     "name": "stdout",
     "output_type": "stream",
     "text": [
      "✅ All inference outputs saved to ./inference_outputs\n"
     ]
    }
   ],
   "source": [
    "\n",
    "# after training:\n",
    "infer_and_save(\n",
    "    model=model,\n",
    "    dataloader=data_loader,\n",
    "    device=device,\n",
    "    output_dir=\"./inference_outputs\",\n",
    "    input_name=\"mixture\",\n",
    "    label_names=[\"drums\", \"bass\", \"other_accompaniment\", \"vocals\"],\n",
    "    sample_rate=16000,\n",
    ")\n",
    "\n"
   ]
  }
 ],
 "metadata": {
  "kernelspec": {
   "display_name": "smal",
   "language": "python",
   "name": "python3"
  },
  "language_info": {
   "codemirror_mode": {
    "name": "ipython",
    "version": 3
   },
   "file_extension": ".py",
   "mimetype": "text/x-python",
   "name": "python",
   "nbconvert_exporter": "python",
   "pygments_lexer": "ipython3",
   "version": "3.12.9"
  }
 },
 "nbformat": 4,
 "nbformat_minor": 5
}
